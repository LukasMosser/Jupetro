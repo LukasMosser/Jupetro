{
 "cells": [
  {
   "cell_type": "markdown",
   "metadata": {},
   "source": [
    "# Jupetro\n",
    "### Jupyter Notebooks for oil & gas"
   ]
  },
  {
   "cell_type": "markdown",
   "metadata": {},
   "source": [
    "Welcome to the Jupetro project!\n",
    "\n",
    "Here you find a collection of oil and gas related Jupyter notebooks that you can run interactively and reproducible on your machine or on the web via the Binder service.\n",
    "\n",
    "Here is the current list of available notebooks (click any of the links to continue):\n",
    "1. [Decline Curve Analysis](Simple Decline Curve Analysis in Python.ipynb)"
   ]
  },
  {
   "cell_type": "markdown",
   "metadata": {},
   "source": [
    "## License"
   ]
  },
  {
   "cell_type": "markdown",
   "metadata": {},
   "source": [
    "All notebooks are published under the GPL3 license.\n",
    "Created by Lukas Mosser 2016."
   ]
  },
  {
   "cell_type": "code",
   "execution_count": null,
   "metadata": {
    "collapsed": true
   },
   "outputs": [],
   "source": []
  }
 ],
 "metadata": {
  "anaconda-cloud": {},
  "kernelspec": {
   "display_name": "Python [conda env:binder]",
   "language": "python",
   "name": "conda-env-binder-py"
   },
  "language_info": {
   "codemirror_mode": {
    "name": "ipython",
    "version": 2
   },
   "file_extension": ".py",
   "mimetype": "text/x-python",
   "name": "python",
   "nbconvert_exporter": "python",
   "pygments_lexer": "ipython2",
   "version": "2.7.11"
  }
 },
 "nbformat": 4,
 "nbformat_minor": 0
}
